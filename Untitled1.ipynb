{
 "cells": [
  {
   "cell_type": "code",
   "execution_count": 1,
   "id": "c9d3435d-1fa4-422e-84e5-7a08a5b773f0",
   "metadata": {},
   "outputs": [
    {
     "name": "stdout",
     "output_type": "stream",
     "text": [
      "  Original String Modified String\n",
      "0             aaa             ___\n",
      "1          aaaaaa          ______\n",
      "2            aaas            ___s\n",
      "3          aachen          aache_\n",
      "4            aaee            __ee\n",
      "5             aag             __g\n",
      "6           aahed           __hed\n",
      "7            aahs            __hs\n",
      "8             aal             __l\n",
      "9        aalesund        __lesund\n"
     ]
    }
   ],
   "source": [
    "import random\n",
    "import pandas as pd\n",
    "\n",
    "# Given list of strings\n",
    "string_list = ['aaa', 'aaaaaa', 'aaas', 'aachen', 'aaee', 'aag', 'aahed', 'aahs', 'aal', 'aalesund']\n",
    "\n",
    "# Function to randomly replace a character in a string with '_'\n",
    "def random_replace(string):\n",
    "    # Pick a random character from the string\n",
    "    char = random.choice(string)\n",
    "    # Replace all occurrences of the selected character with '_'\n",
    "    new_string = string.replace(char, '_')\n",
    "    return new_string\n",
    "\n",
    "# Create a list to store the original and modified strings\n",
    "modified_strings = [random_replace(string) for string in string_list]\n",
    "\n",
    "# Create a DataFrame to store the original and modified strings\n",
    "df = pd.DataFrame({'Original String': string_list, 'Modified String': modified_strings})\n",
    "\n",
    "# Display the DataFrame\n",
    "print(df)\n"
   ]
  },
  {
   "cell_type": "code",
   "execution_count": 2,
   "id": "5a878198-d6ba-4d44-bdf6-fc4a3c39ccf2",
   "metadata": {},
   "outputs": [],
   "source": [
    "def build_dictionary(dictionary_file_location):\n",
    "    text_file = open(dictionary_file_location,\"r\")\n",
    "    full_dictionary = text_file.read().splitlines()\n",
    "    text_file.close()\n",
    "    return full_dictionary\n"
   ]
  },
  {
   "cell_type": "code",
   "execution_count": 3,
   "id": "dd017d04-b4c8-4a00-9467-3efcd8dcff9c",
   "metadata": {},
   "outputs": [],
   "source": [
    "all_words = build_dictionary('./words_250000_train.txt')"
   ]
  },
  {
   "cell_type": "code",
   "execution_count": 5,
   "id": "c1e4f1ec-441f-4c92-90cc-8863ca36ac57",
   "metadata": {},
   "outputs": [
    {
     "name": "stdout",
     "output_type": "stream",
     "text": [
      "       Original String Modified String\n",
      "0                  aaa             ___\n",
      "1               aaaaaa          ______\n",
      "2                 aaas            aaa_\n",
      "3               aachen          __chen\n",
      "4                 aaee            aa__\n",
      "...                ...             ...\n",
      "227295          zythia          _ythia\n",
      "227296         zyzomys         z_zom_s\n",
      "227297         zyzzyva         zyzzy_a\n",
      "227298              zz              __\n",
      "227299             zzz             ___\n",
      "\n",
      "[227300 rows x 2 columns]\n"
     ]
    }
   ],
   "source": [
    "# Create a list to store the original and modified strings\n",
    "modified_strings = [random_replace(string) for string in all_words]\n",
    "\n",
    "# Create a DataFrame to store the original and modified strings\n",
    "df = pd.DataFrame({'Original String': all_words, 'Modified String': modified_strings})\n",
    "\n",
    "# Display the DataFrame\n",
    "print(df)"
   ]
  },
  {
   "cell_type": "code",
   "execution_count": 6,
   "id": "1f69668a-c45d-4057-b72f-8a1e32655b75",
   "metadata": {},
   "outputs": [],
   "source": [
    "import numpy as np\n",
    "\n",
    "def char_to_one_hot(char):\n",
    "    alphabet = \"abcdefghijklmnopqrstuvwxyz_\"\n",
    "    one_hot = np.zeros(len(alphabet))\n",
    "    if char in alphabet:\n",
    "        idx = alphabet.index(char)\n",
    "        one_hot[idx] = 1\n",
    "    return one_hot\n",
    "\n",
    "def string_to_one_hot(string):\n",
    "    return np.array([char_to_one_hot(char) for char in string])\n",
    "\n",
    "def one_hot_to_char(one_hot):\n",
    "    alphabet = \"abcdefghijklmnopqrstuvwxyz_\"\n",
    "    idx = np.argmax(one_hot)\n",
    "    return alphabet[idx]\n",
    "\n",
    "def one_hot_to_string(one_hot_matrix):\n",
    "    return ''.join([one_hot_to_char(one_hot) for one_hot in one_hot_matrix])\n"
   ]
  },
  {
   "cell_type": "code",
   "execution_count": null,
   "id": "da7016c2-a433-4061-b216-d9e98ddf0f51",
   "metadata": {},
   "outputs": [],
   "source": []
  }
 ],
 "metadata": {
  "kernelspec": {
   "display_name": "Python 3 (ipykernel)",
   "language": "python",
   "name": "python3"
  },
  "language_info": {
   "codemirror_mode": {
    "name": "ipython",
    "version": 3
   },
   "file_extension": ".py",
   "mimetype": "text/x-python",
   "name": "python",
   "nbconvert_exporter": "python",
   "pygments_lexer": "ipython3",
   "version": "3.10.8"
  }
 },
 "nbformat": 4,
 "nbformat_minor": 5
}
